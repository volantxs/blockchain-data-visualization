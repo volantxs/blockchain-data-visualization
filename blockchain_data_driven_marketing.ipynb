{
 "cells": [
  {
   "cell_type": "code",
   "execution_count": 1,
   "metadata": {},
   "outputs": [],
   "source": [
    "import http.client\n",
    "import json\n",
    "import pandas as pd \n",
    "import numpy as np\n",
    "import matplotlib.pyplot as plt"
   ]
  },
  {
   "cell_type": "markdown",
   "metadata": {},
   "source": [
    "NFT Tranfers in February 2023"
   ]
  },
  {
   "cell_type": "code",
   "execution_count": 107,
   "metadata": {},
   "outputs": [
    {
     "name": "stdout",
     "output_type": "stream",
     "text": [
      "{'data': {'EVM': {'Transfers': [{'Block': {'Date': '2023-02-01'}, 'count': '276855'}, {'Block': {'Date': '2023-02-02'}, 'count': '234185'}, {'Block': {'Date': '2023-02-03'}, 'count': '288370'}, {'Block': {'Date': '2023-02-04'}, 'count': '287435'}, {'Block': {'Date': '2023-02-05'}, 'count': '264605'}, {'Block': {'Date': '2023-02-06'}, 'count': '229436'}, {'Block': {'Date': '2023-02-07'}, 'count': '189348'}, {'Block': {'Date': '2023-02-08'}, 'count': '215485'}, {'Block': {'Date': '2023-02-09'}, 'count': '248798'}, {'Block': {'Date': '2023-02-10'}, 'count': '306768'}, {'Block': {'Date': '2023-02-11'}, 'count': '387566'}, {'Block': {'Date': '2023-02-12'}, 'count': '376424'}, {'Block': {'Date': '2023-02-13'}, 'count': '333440'}, {'Block': {'Date': '2023-02-14'}, 'count': '246071'}, {'Block': {'Date': '2023-02-15'}, 'count': '246133'}, {'Block': {'Date': '2023-02-16'}, 'count': '219234'}, {'Block': {'Date': '2023-02-17'}, 'count': '287262'}, {'Block': {'Date': '2023-02-18'}, 'count': '279317'}, {'Block': {'Date': '2023-02-19'}, 'count': '339972'}, {'Block': {'Date': '2023-02-20'}, 'count': '300524'}, {'Block': {'Date': '2023-02-21'}, 'count': '284517'}, {'Block': {'Date': '2023-02-22'}, 'count': '259675'}, {'Block': {'Date': '2023-02-23'}, 'count': '370115'}, {'Block': {'Date': '2023-02-24'}, 'count': '350922'}, {'Block': {'Date': '2023-02-25'}, 'count': '379420'}, {'Block': {'Date': '2023-02-26'}, 'count': '430906'}, {'Block': {'Date': '2023-02-27'}, 'count': '359794'}, {'Block': {'Date': '2023-02-28'}, 'count': '327922'}, {'Block': {'Date': '2023-03-01'}, 'count': '290921'}]}}}\n"
     ]
    }
   ],
   "source": [
    "conn = http.client.HTTPSConnection(\"streaming.bitquery.io\")\n",
    "payload0 = json.dumps({\n",
    "   \"query\": \"{\\n  EVM(dataset: combined, network: eth) {\\n    Transfers(\\n      orderBy: {ascending: Block_Date}\\n      where: {Block: {Date: {since: \\\"2023-02-01\\\", till: \\\"2023-03-01\\\"}}, Transfer: {Currency: {Fungible: false}}}\\n    ) {\\n      Block {\\n        Date\\n      }\\n      count\\n    }\\n  }\\n}\\n\",\n",
    "   \"variables\": \"{}\"\n",
    "})\n",
    "headers = {\n",
    "   'Content-Type': 'application/json',\n",
    "   'X-API-KEY': 'BQYdO11cbRp3kwtJsrLSTOHnuapbJL48'\n",
    "}\n",
    "conn.request(\"POST\", \"/graphql\", payload0, headers)\n",
    "res0 = conn.getresponse()\n",
    "data0 = res0.read()\n",
    "response0= json.loads(data0.decode(\"utf-8\"))\n",
    "print(response0)"
   ]
  },
  {
   "cell_type": "code",
   "execution_count": 109,
   "metadata": {},
   "outputs": [
    {
     "data": {
      "text/html": [
       "<div>\n",
       "<style scoped>\n",
       "    .dataframe tbody tr th:only-of-type {\n",
       "        vertical-align: middle;\n",
       "    }\n",
       "\n",
       "    .dataframe tbody tr th {\n",
       "        vertical-align: top;\n",
       "    }\n",
       "\n",
       "    .dataframe thead th {\n",
       "        text-align: right;\n",
       "    }\n",
       "</style>\n",
       "<table border=\"1\" class=\"dataframe\">\n",
       "  <thead>\n",
       "    <tr style=\"text-align: right;\">\n",
       "      <th></th>\n",
       "      <th>count</th>\n",
       "      <th>Block.Date</th>\n",
       "    </tr>\n",
       "  </thead>\n",
       "  <tbody>\n",
       "    <tr>\n",
       "      <th>0</th>\n",
       "      <td>276855</td>\n",
       "      <td>2023-02-01</td>\n",
       "    </tr>\n",
       "    <tr>\n",
       "      <th>1</th>\n",
       "      <td>234185</td>\n",
       "      <td>2023-02-02</td>\n",
       "    </tr>\n",
       "    <tr>\n",
       "      <th>2</th>\n",
       "      <td>288370</td>\n",
       "      <td>2023-02-03</td>\n",
       "    </tr>\n",
       "    <tr>\n",
       "      <th>3</th>\n",
       "      <td>287435</td>\n",
       "      <td>2023-02-04</td>\n",
       "    </tr>\n",
       "    <tr>\n",
       "      <th>4</th>\n",
       "      <td>264605</td>\n",
       "      <td>2023-02-05</td>\n",
       "    </tr>\n",
       "  </tbody>\n",
       "</table>\n",
       "</div>"
      ],
      "text/plain": [
       "    count  Block.Date\n",
       "0  276855  2023-02-01\n",
       "1  234185  2023-02-02\n",
       "2  288370  2023-02-03\n",
       "3  287435  2023-02-04\n",
       "4  264605  2023-02-05"
      ]
     },
     "execution_count": 109,
     "metadata": {},
     "output_type": "execute_result"
    }
   ],
   "source": [
    "dt0= response0['data']['EVM']['Transfers']\n",
    "df_nft_feb = pd.json_normalize(dt0)\n",
    "df_nft_feb.head(5)"
   ]
  },
  {
   "cell_type": "code",
   "execution_count": 111,
   "metadata": {},
   "outputs": [
    {
     "name": "stdout",
     "output_type": "stream",
     "text": [
      "<class 'pandas.core.frame.DataFrame'>\n",
      "RangeIndex: 29 entries, 0 to 28\n",
      "Data columns (total 2 columns):\n",
      " #   Column      Non-Null Count  Dtype \n",
      "---  ------      --------------  ----- \n",
      " 0   count       29 non-null     object\n",
      " 1   Block.Date  29 non-null     object\n",
      "dtypes: object(2)\n",
      "memory usage: 592.0+ bytes\n"
     ]
    }
   ],
   "source": [
    "df_nft_feb.info()"
   ]
  },
  {
   "cell_type": "code",
   "execution_count": null,
   "metadata": {},
   "outputs": [],
   "source": [
    "dataframe['count'] =  pd.to_numeric(dataframe['count'])\n",
    "dataframe['Block.Date'] = pd.to_datetime(dataframe['Block.Date'])\n",
    "dataframe['Block.Date'] = dataframe['Block.Date'].dt.day\n",
    "dataframe.info()"
   ]
  },
  {
   "cell_type": "markdown",
   "metadata": {},
   "source": [
    "NFT Transfers During Regulators packed period (September 2023)"
   ]
  },
  {
   "cell_type": "code",
   "execution_count": 30,
   "metadata": {},
   "outputs": [
    {
     "name": "stdout",
     "output_type": "stream",
     "text": [
      "{'data': {'EVM': {'Transfers': [{'Block': {'Date': '2023-09-01'}, 'count': '145637'}, {'Block': {'Date': '2023-09-02'}, 'count': '104272'}, {'Block': {'Date': '2023-09-03'}, 'count': '93897'}, {'Block': {'Date': '2023-09-04'}, 'count': '125071'}, {'Block': {'Date': '2023-09-05'}, 'count': '160966'}, {'Block': {'Date': '2023-09-06'}, 'count': '161740'}, {'Block': {'Date': '2023-09-07'}, 'count': '141062'}, {'Block': {'Date': '2023-09-08'}, 'count': '184425'}, {'Block': {'Date': '2023-09-09'}, 'count': '123643'}, {'Block': {'Date': '2023-09-10'}, 'count': '161540'}, {'Block': {'Date': '2023-09-11'}, 'count': '131652'}, {'Block': {'Date': '2023-09-12'}, 'count': '105835'}, {'Block': {'Date': '2023-09-13'}, 'count': '153006'}, {'Block': {'Date': '2023-09-14'}, 'count': '196569'}, {'Block': {'Date': '2023-09-15'}, 'count': '120837'}, {'Block': {'Date': '2023-09-16'}, 'count': '132694'}, {'Block': {'Date': '2023-09-17'}, 'count': '139284'}, {'Block': {'Date': '2023-09-18'}, 'count': '102830'}, {'Block': {'Date': '2023-09-19'}, 'count': '142270'}, {'Block': {'Date': '2023-09-20'}, 'count': '181355'}, {'Block': {'Date': '2023-09-21'}, 'count': '127354'}, {'Block': {'Date': '2023-09-22'}, 'count': '137512'}, {'Block': {'Date': '2023-09-23'}, 'count': '142122'}, {'Block': {'Date': '2023-09-24'}, 'count': '102468'}, {'Block': {'Date': '2023-09-25'}, 'count': '133530'}, {'Block': {'Date': '2023-09-26'}, 'count': '131823'}, {'Block': {'Date': '2023-09-27'}, 'count': '153032'}, {'Block': {'Date': '2023-09-28'}, 'count': '146064'}, {'Block': {'Date': '2023-09-29'}, 'count': '127091'}, {'Block': {'Date': '2023-09-30'}, 'count': '143462'}, {'Block': {'Date': '2023-10-01'}, 'count': '130736'}]}}}\n"
     ]
    }
   ],
   "source": [
    "\n",
    "conn = http.client.HTTPSConnection(\"streaming.bitquery.io\")\n",
    "payload = json.dumps({\n",
    "   \"query\": \"{\\n  EVM(dataset: combined, network: eth) {\\n    Transfers(\\n      orderBy: {ascending: Block_Date}\\n      where: {Block: {Date: {since: \\\"2023-9-01\\\", till: \\\"2023-10-01\\\"}}, Transfer: {Currency: {Fungible: false}}}\\n    ) {\\n      Block {\\n        Date\\n      }\\n      count\\n    }\\n  }\\n}\\n\",\n",
    "   \"variables\": \"{}\"\n",
    "})\n",
    "headers = {\n",
    "   'Content-Type': 'application/json',\n",
    "   'X-API-KEY': 'BQYdO11cbRp3kwtJsrLSTOHnuapbJL48'\n",
    "}\n",
    "conn.request(\"POST\", \"/graphql\", payload, headers)\n",
    "res = conn.getresponse()\n",
    "data = res.read()\n",
    "response= json.loads(data.decode(\"utf-8\"))\n",
    "print(response)\n"
   ]
  },
  {
   "cell_type": "code",
   "execution_count": 33,
   "metadata": {},
   "outputs": [
    {
     "data": {
      "text/html": [
       "<div>\n",
       "<style scoped>\n",
       "    .dataframe tbody tr th:only-of-type {\n",
       "        vertical-align: middle;\n",
       "    }\n",
       "\n",
       "    .dataframe tbody tr th {\n",
       "        vertical-align: top;\n",
       "    }\n",
       "\n",
       "    .dataframe thead th {\n",
       "        text-align: right;\n",
       "    }\n",
       "</style>\n",
       "<table border=\"1\" class=\"dataframe\">\n",
       "  <thead>\n",
       "    <tr style=\"text-align: right;\">\n",
       "      <th></th>\n",
       "      <th>count</th>\n",
       "      <th>Block.Date</th>\n",
       "    </tr>\n",
       "  </thead>\n",
       "  <tbody>\n",
       "    <tr>\n",
       "      <th>0</th>\n",
       "      <td>145637</td>\n",
       "      <td>2023-09-01</td>\n",
       "    </tr>\n",
       "    <tr>\n",
       "      <th>1</th>\n",
       "      <td>104272</td>\n",
       "      <td>2023-09-02</td>\n",
       "    </tr>\n",
       "    <tr>\n",
       "      <th>2</th>\n",
       "      <td>93897</td>\n",
       "      <td>2023-09-03</td>\n",
       "    </tr>\n",
       "    <tr>\n",
       "      <th>3</th>\n",
       "      <td>125071</td>\n",
       "      <td>2023-09-04</td>\n",
       "    </tr>\n",
       "    <tr>\n",
       "      <th>4</th>\n",
       "      <td>160966</td>\n",
       "      <td>2023-09-05</td>\n",
       "    </tr>\n",
       "  </tbody>\n",
       "</table>\n",
       "</div>"
      ],
      "text/plain": [
       "    count  Block.Date\n",
       "0  145637  2023-09-01\n",
       "1  104272  2023-09-02\n",
       "2   93897  2023-09-03\n",
       "3  125071  2023-09-04\n",
       "4  160966  2023-09-05"
      ]
     },
     "execution_count": 33,
     "metadata": {},
     "output_type": "execute_result"
    }
   ],
   "source": [
    "data_table= response['data']['EVM']['Transfers']\n",
    "dataframe = pd.json_normalize(data_table)\n",
    "dataframe.head(5)"
   ]
  },
  {
   "cell_type": "code",
   "execution_count": 46,
   "metadata": {},
   "outputs": [
    {
     "name": "stdout",
     "output_type": "stream",
     "text": [
      "<class 'pandas.core.frame.DataFrame'>\n",
      "RangeIndex: 31 entries, 0 to 30\n",
      "Data columns (total 2 columns):\n",
      " #   Column      Non-Null Count  Dtype \n",
      "---  ------      --------------  ----- \n",
      " 0   count       31 non-null     object\n",
      " 1   Block.Date  31 non-null     object\n",
      "dtypes: object(2)\n",
      "memory usage: 624.0+ bytes\n"
     ]
    }
   ],
   "source": [
    "dataframe.info()"
   ]
  },
  {
   "cell_type": "code",
   "execution_count": 63,
   "metadata": {},
   "outputs": [
    {
     "name": "stdout",
     "output_type": "stream",
     "text": [
      "<class 'pandas.core.frame.DataFrame'>\n",
      "RangeIndex: 31 entries, 0 to 30\n",
      "Data columns (total 2 columns):\n",
      " #   Column      Non-Null Count  Dtype\n",
      "---  ------      --------------  -----\n",
      " 0   count       31 non-null     int64\n",
      " 1   Block.Date  31 non-null     int64\n",
      "dtypes: int64(2)\n",
      "memory usage: 624.0 bytes\n"
     ]
    }
   ],
   "source": [
    "dataframe['count'] =  pd.to_numeric(dataframe['count'])\n",
    "dataframe['Block.Date'] = pd.to_datetime(dataframe['Block.Date'])\n",
    "dataframe['Block.Date'] = dataframe['Block.Date'].dt.day\n",
    "dataframe.info()"
   ]
  },
  {
   "cell_type": "code",
   "execution_count": 65,
   "metadata": {},
   "outputs": [
    {
     "data": {
      "image/png": "[encoded data removed]",
      "text/plain": [
       "<Figure size 720x360 with 1 Axes>"
      ]
     },
     "metadata": {
      "needs_background": "light"
     },
     "output_type": "display_data"
    }
   ],
   "source": [
    "plt.figure(figsize= (10,5))\n",
    "plt.bar(dataframe['Block.Date'].iloc[::2], dataframe['count'].iloc[::2], color='blue', width=1)\n",
    "plt.show()"
   ]
  },
  {
   "cell_type": "code",
   "execution_count": 70,
   "metadata": {},
   "outputs": [
    {
     "name": "stdout",
     "output_type": "stream",
     "text": [
      "{'data': {'EVM': {'Transfers': [{'Transfer': {'Currency': {'SmartContract': '0x57f1887a8bf19b14fc0df6fd9b2acc9af147ea85', 'Symbol': ''}}, 'count': '61151', 'ids': '45978', 'receivers': '6247', 'senders': '9344'}, {'Transfer': {'Currency': {'SmartContract': '0x495f947276749ce646f68ac8c248420045cb7b5e', 'Symbol': 'OPENSTORE'}}, 'count': '23110', 'ids': '14958', 'receivers': '10079', 'senders': '5583'}, {'Transfer': {'Currency': {'SmartContract': '0x0581ddf7a136c6837429a46c6cb7b388a3e52971', 'Symbol': 'BG Dice'}}, 'count': '13796', 'ids': '5555', 'receivers': '6887', 'senders': '4490'}, {'Transfer': {'Currency': {'SmartContract': '0xb8a52cbf0a322b5162173984b58510e5bf264d81', 'Symbol': 'MAXIM'}}, 'count': '21758', 'ids': '10000', 'receivers': '5874', 'senders': '3790'}, {'Transfer': {'Currency': {'SmartContract': '0xd564c25b760cb278a55bdd98831f4ff4b6c97b38', 'Symbol': 'ORAS'}}, 'count': '14270', 'ids': '4980', 'receivers': '1937', 'senders': '3560'}, {'Transfer': {'Currency': {'SmartContract': '0x5b1085136a811e55b2bb2ca1ea456ba82126a376', 'Symbol': 'VSL'}}, 'count': '22345', 'ids': '14735', 'receivers': '2604', 'senders': '3458'}, {'Transfer': {'Currency': {'SmartContract': '0x0c56f29b8d90eea71d57cadeb3216b4ef7494abc', 'Symbol': 'CLOAKS'}}, 'count': '37426', 'ids': '19999', 'receivers': '5827', 'senders': '2877'}, {'Transfer': {'Currency': {'SmartContract': '0x8ff2e72f8faf05384aeb501ba9644c9759d2fd5f', 'Symbol': 'MTG'}}, 'count': '9929', 'ids': '2221', 'receivers': '3517', 'senders': '2708'}, {'Transfer': {'Currency': {'SmartContract': '0xd774557b647330c91bf44cfeab205095f7e6c367', 'Symbol': 'NKMGS'}}, 'count': '9647', 'ids': '3778', 'receivers': '2667', 'senders': '2572'}, {'Transfer': {'Currency': {'SmartContract': '0x2ff6a890249bcc6ab071c17a66db4c327154604c', 'Symbol': 'MarathonRunner'}}, 'count': '5515', 'ids': '2958', 'receivers': '2855', 'senders': '2540'}, {'Transfer': {'Currency': {'SmartContract': '0xd29f5f02f5ffcd102faf467f2f236c601830780d', 'Symbol': 'DDMGS'}}, 'count': '23226', 'ids': '9666', 'receivers': '3748', 'senders': '2514'}, {'Transfer': {'Currency': {'SmartContract': '0x37ed9fb736bf48b8bceba599938372cbd70fb378', 'Symbol': 'PEPUNKS'}}, 'count': '9400', 'ids': '6339', 'receivers': '1338', 'senders': '2334'}, {'Transfer': {'Currency': {'SmartContract': '0x142e03367ede17cd851477a4287d1f35676e6dc2', 'Symbol': 'Yogapetz'}}, 'count': '15217', 'ids': '10086', 'receivers': '5931', 'senders': '2175'}, {'Transfer': {'Currency': {'SmartContract': '0x889edc2edab5f40e902b864ad4d7ade8e412f9b1', 'Symbol': 'unstETH'}}, 'count': '5675', 'ids': '3205', 'receivers': '2423', 'senders': '2171'}, {'Transfer': {'Currency': {'SmartContract': '0xa5b276d7c697a7fbb3437253f3fd7eeed852950f', 'Symbol': 'sphpp_'}}, 'count': '16031', 'ids': '5531', 'receivers': '2872', 'senders': '2097'}, {'Transfer': {'Currency': {'SmartContract': '0xa90b7861b734784e5eaf87bcd079b1edfed24555', 'Symbol': 'seedworld'}}, 'count': '6717', 'ids': '4906', 'receivers': '519', 'senders': '1885'}, {'Transfer': {'Currency': {'SmartContract': '0x76be3b62873462d2142405439777e971754e8e77', 'Symbol': 'LL'}}, 'count': '36877', 'ids': '671', 'receivers': '2101', 'senders': '1797'}, {'Transfer': {'Currency': {'SmartContract': '0x34d85c9cdeb23fa97cb08333b511ac86e1c4e258', 'Symbol': 'OTHR'}}, 'count': '8631', 'ids': '5013', 'receivers': '897', 'senders': '1691'}, {'Transfer': {'Currency': {'SmartContract': '0x122c8d08b982419531b19cce198b63a8d9068eb4', 'Symbol': 'MAJEST'}}, 'count': '5754', 'ids': '3947', 'receivers': '789', 'senders': '1673'}, {'Transfer': {'Currency': {'SmartContract': '0x790b2cf29ed4f310bf7641f013c65d4560d28371', 'Symbol': 'EXP'}}, 'count': '10045', 'ids': '7410', 'receivers': '2207', 'senders': '1667'}, {'Transfer': {'Currency': {'SmartContract': '0xd4416b13d2b3a9abae7acd5d6c2bbdbe25686401', 'Symbol': ''}}, 'count': '34841', 'ids': '32876', 'receivers': '26646', 'senders': '1652'}, {'Transfer': {'Currency': {'SmartContract': '0x4b45bc6eb614e4f681cc470171b065f6970d7b88', 'Symbol': 'GARBAGEC'}}, 'count': '4718', 'ids': '4500', 'receivers': '726', 'senders': '1632'}, {'Transfer': {'Currency': {'SmartContract': '0x061c42c9c589430714b5d1facee82e4384d42741', 'Symbol': 'ALAN'}}, 'count': '18533', 'ids': '10000', 'receivers': '3186', 'senders': '1547'}, {'Transfer': {'Currency': {'SmartContract': '0x9b1750e5e27b491f2e3b3fa969e11a41f4ebb550', 'Symbol': 'DORK'}}, 'count': '7043', 'ids': '3524', 'receivers': '1083', 'senders': '1385'}, {'Transfer': {'Currency': {'SmartContract': '0x60e4d786628fea6478f785a6d7e704777c86a7c6', 'Symbol': 'MAYC'}}, 'count': '11479', 'ids': '2067', 'receivers': '1365', 'senders': '1370'}, {'Transfer': {'Currency': {'SmartContract': '0x61c802007b1298c13311bc04511fe578d2c84b39', 'Symbol': 'IRL'}}, 'count': '17321', 'ids': '9999', 'receivers': '2678', 'senders': '1354'}, {'Transfer': {'Currency': {'SmartContract': '0x7ad7f98f229c5c1ea5161bed952c3007dbe1f307', 'Symbol': ''}}, 'count': '2741', 'ids': '1692', 'receivers': '951', 'senders': '1306'}, {'Transfer': {'Currency': {'SmartContract': '0x2358693f4faec9d658bb97fc9cd8885f62105dc1', 'Symbol': 'GTAG'}}, 'count': '13226', 'ids': '8188', 'receivers': '1262', 'senders': '1284'}, {'Transfer': {'Currency': {'SmartContract': '0x7f29b85834d6a2ba4bb1c64325686c6057b1b3c5', 'Symbol': 'BAPAPES'}}, 'count': '6116', 'ids': '3358', 'receivers': '969', 'senders': '1222'}, {'Transfer': {'Currency': {'SmartContract': '0x524cab2ec69124574082676e6f654a18df49a048', 'Symbol': 'LP'}}, 'count': '3489', 'ids': '1425', 'receivers': '1160', 'senders': '1216'}]}}}\n"
     ]
    }
   ],
   "source": [
    "conn = http.client.HTTPSConnection(\"streaming.bitquery.io\")\n",
    "payload2 = json.dumps({\n",
    "   \"query\": \"{\\n  EVM(dataset: combined, network: eth) {\\n    Transfers(\\n      where: {Block: {Date: {since: \\\"2023-09-01\\\", till: \\\"2023-10-01\\\"}}, Transfer: {Currency: {Fungible: false}}}\\n      limit: {count: 30}\\n      orderBy: {descendingByField: \\\"senders\\\"}\\n    ) {\\n      Transfer {\\n        Currency {\\n          Symbol\\n          SmartContract\\n        }\\n      }\\n      count\\n      senders: uniq(of: Transfer_Sender, method: approximate)\\n      receivers: uniq(of: Transfer_Receiver, method: approximate)\\n      ids: uniq(of: Transfer_Id, method: approximate)\\n    }\\n  }\\n}\\n\",\n",
    "   \"variables\": \"{}\"\n",
    "})\n",
    "conn.request(\"POST\", \"/graphql\", payload2, headers)\n",
    "res2 = conn.getresponse()\n",
    "data2 = res2.read()\n",
    "response2= json.loads(data2.decode(\"utf-8\"))\n",
    "print(response2)"
   ]
  },
  {
   "cell_type": "code",
   "execution_count": 76,
   "metadata": {},
   "outputs": [
    {
     "name": "stdout",
     "output_type": "stream",
     "text": [
      "<class 'pandas.core.frame.DataFrame'>\n",
      "RangeIndex: 30 entries, 0 to 29\n",
      "Data columns (total 6 columns):\n",
      " #   Column                           Non-Null Count  Dtype \n",
      "---  ------                           --------------  ----- \n",
      " 0   count                            30 non-null     object\n",
      " 1   ids                              30 non-null     object\n",
      " 2   receivers                        30 non-null     object\n",
      " 3   senders                          30 non-null     object\n",
      " 4   Transfer.Currency.SmartContract  30 non-null     object\n",
      " 5   Transfer.Currency.Symbol         30 non-null     object\n",
      "dtypes: object(6)\n",
      "memory usage: 1.5+ KB\n"
     ]
    }
   ],
   "source": [
    "dt_top_nfts= response2['data']['EVM']['Transfers']\n",
    "df_top_nfts = pd.json_normalize(dt_top_nfts)\n",
    "df_top_nfts.info()"
   ]
  },
  {
   "cell_type": "code",
   "execution_count": 86,
   "metadata": {},
   "outputs": [
    {
     "name": "stdout",
     "output_type": "stream",
     "text": [
      "<class 'pandas.core.frame.DataFrame'>\n",
      "RangeIndex: 30 entries, 0 to 29\n",
      "Data columns (total 6 columns):\n",
      " #   Column                           Non-Null Count  Dtype \n",
      "---  ------                           --------------  ----- \n",
      " 0   count                            30 non-null     int64 \n",
      " 1   ids                              30 non-null     object\n",
      " 2   receivers                        30 non-null     int64 \n",
      " 3   senders                          30 non-null     int64 \n",
      " 4   Transfer.Currency.SmartContract  30 non-null     object\n",
      " 5   Transfer.Currency.Symbol         30 non-null     object\n",
      "dtypes: int64(3), object(3)\n",
      "memory usage: 1.5+ KB\n"
     ]
    }
   ],
   "source": [
    "df_top_nfts['count'] = pd.to_numeric(df_top_nfts['count'])\n",
    "df_top_nfts['senders'] = pd.to_numeric(df_top_nfts['senders'])\n",
    "df_top_nfts['receivers'] = pd.to_numeric(df_top_nfts['receivers'])\n",
    "df_top_nfts.info()"
   ]
  },
  {
   "cell_type": "code",
   "execution_count": 105,
   "metadata": {},
   "outputs": [
    {
     "data": {
      "text/html": [
       "<div>\n",
       "<style scoped>\n",
       "    .dataframe tbody tr th:only-of-type {\n",
       "        vertical-align: middle;\n",
       "    }\n",
       "\n",
       "    .dataframe tbody tr th {\n",
       "        vertical-align: top;\n",
       "    }\n",
       "\n",
       "    .dataframe thead th {\n",
       "        text-align: right;\n",
       "    }\n",
       "</style>\n",
       "<table border=\"1\" class=\"dataframe\">\n",
       "  <thead>\n",
       "    <tr style=\"text-align: right;\">\n",
       "      <th></th>\n",
       "      <th>count</th>\n",
       "      <th>ids</th>\n",
       "      <th>receivers</th>\n",
       "      <th>senders</th>\n",
       "      <th>Transfer.Currency.SmartContract</th>\n",
       "      <th>Transfer.Currency.Symbol</th>\n",
       "    </tr>\n",
       "  </thead>\n",
       "  <tbody>\n",
       "    <tr>\n",
       "      <th>1</th>\n",
       "      <td>23110</td>\n",
       "      <td>14958</td>\n",
       "      <td>10079</td>\n",
       "      <td>5583</td>\n",
       "      <td>0x495f947276749ce646f68ac8c248420045cb7b5e</td>\n",
       "      <td>OPENSTORE</td>\n",
       "    </tr>\n",
       "    <tr>\n",
       "      <th>2</th>\n",
       "      <td>13796</td>\n",
       "      <td>5555</td>\n",
       "      <td>6887</td>\n",
       "      <td>4490</td>\n",
       "      <td>0x0581ddf7a136c6837429a46c6cb7b388a3e52971</td>\n",
       "      <td>BG Dice</td>\n",
       "    </tr>\n",
       "    <tr>\n",
       "      <th>3</th>\n",
       "      <td>21758</td>\n",
       "      <td>10000</td>\n",
       "      <td>5874</td>\n",
       "      <td>3790</td>\n",
       "      <td>0xb8a52cbf0a322b5162173984b58510e5bf264d81</td>\n",
       "      <td>MAXIM</td>\n",
       "    </tr>\n",
       "    <tr>\n",
       "      <th>4</th>\n",
       "      <td>14270</td>\n",
       "      <td>4980</td>\n",
       "      <td>1937</td>\n",
       "      <td>3560</td>\n",
       "      <td>0xd564c25b760cb278a55bdd98831f4ff4b6c97b38</td>\n",
       "      <td>ORAS</td>\n",
       "    </tr>\n",
       "    <tr>\n",
       "      <th>5</th>\n",
       "      <td>22345</td>\n",
       "      <td>14735</td>\n",
       "      <td>2604</td>\n",
       "      <td>3458</td>\n",
       "      <td>0x5b1085136a811e55b2bb2ca1ea456ba82126a376</td>\n",
       "      <td>VSL</td>\n",
       "    </tr>\n",
       "    <tr>\n",
       "      <th>6</th>\n",
       "      <td>37426</td>\n",
       "      <td>19999</td>\n",
       "      <td>5827</td>\n",
       "      <td>2877</td>\n",
       "      <td>0x0c56f29b8d90eea71d57cadeb3216b4ef7494abc</td>\n",
       "      <td>CLOAKS</td>\n",
       "    </tr>\n",
       "    <tr>\n",
       "      <th>7</th>\n",
       "      <td>9929</td>\n",
       "      <td>2221</td>\n",
       "      <td>3517</td>\n",
       "      <td>2708</td>\n",
       "      <td>0x8ff2e72f8faf05384aeb501ba9644c9759d2fd5f</td>\n",
       "      <td>MTG</td>\n",
       "    </tr>\n",
       "    <tr>\n",
       "      <th>8</th>\n",
       "      <td>9647</td>\n",
       "      <td>3778</td>\n",
       "      <td>2667</td>\n",
       "      <td>2572</td>\n",
       "      <td>0xd774557b647330c91bf44cfeab205095f7e6c367</td>\n",
       "      <td>NKMGS</td>\n",
       "    </tr>\n",
       "    <tr>\n",
       "      <th>9</th>\n",
       "      <td>5515</td>\n",
       "      <td>2958</td>\n",
       "      <td>2855</td>\n",
       "      <td>2540</td>\n",
       "      <td>0x2ff6a890249bcc6ab071c17a66db4c327154604c</td>\n",
       "      <td>MarathonRunner</td>\n",
       "    </tr>\n",
       "    <tr>\n",
       "      <th>10</th>\n",
       "      <td>23226</td>\n",
       "      <td>9666</td>\n",
       "      <td>3748</td>\n",
       "      <td>2514</td>\n",
       "      <td>0xd29f5f02f5ffcd102faf467f2f236c601830780d</td>\n",
       "      <td>DDMGS</td>\n",
       "    </tr>\n",
       "    <tr>\n",
       "      <th>11</th>\n",
       "      <td>9400</td>\n",
       "      <td>6339</td>\n",
       "      <td>1338</td>\n",
       "      <td>2334</td>\n",
       "      <td>0x37ed9fb736bf48b8bceba599938372cbd70fb378</td>\n",
       "      <td>PEPUNKS</td>\n",
       "    </tr>\n",
       "    <tr>\n",
       "      <th>12</th>\n",
       "      <td>15217</td>\n",
       "      <td>10086</td>\n",
       "      <td>5931</td>\n",
       "      <td>2175</td>\n",
       "      <td>0x142e03367ede17cd851477a4287d1f35676e6dc2</td>\n",
       "      <td>Yogapetz</td>\n",
       "    </tr>\n",
       "    <tr>\n",
       "      <th>13</th>\n",
       "      <td>5675</td>\n",
       "      <td>3205</td>\n",
       "      <td>2423</td>\n",
       "      <td>2171</td>\n",
       "      <td>0x889edc2edab5f40e902b864ad4d7ade8e412f9b1</td>\n",
       "      <td>unstETH</td>\n",
       "    </tr>\n",
       "    <tr>\n",
       "      <th>14</th>\n",
       "      <td>16031</td>\n",
       "      <td>5531</td>\n",
       "      <td>2872</td>\n",
       "      <td>2097</td>\n",
       "      <td>0xa5b276d7c697a7fbb3437253f3fd7eeed852950f</td>\n",
       "      <td>sphpp_</td>\n",
       "    </tr>\n",
       "    <tr>\n",
       "      <th>15</th>\n",
       "      <td>6717</td>\n",
       "      <td>4906</td>\n",
       "      <td>519</td>\n",
       "      <td>1885</td>\n",
       "      <td>0xa90b7861b734784e5eaf87bcd079b1edfed24555</td>\n",
       "      <td>seedworld</td>\n",
       "    </tr>\n",
       "    <tr>\n",
       "      <th>16</th>\n",
       "      <td>36877</td>\n",
       "      <td>671</td>\n",
       "      <td>2101</td>\n",
       "      <td>1797</td>\n",
       "      <td>0x76be3b62873462d2142405439777e971754e8e77</td>\n",
       "      <td>LL</td>\n",
       "    </tr>\n",
       "    <tr>\n",
       "      <th>17</th>\n",
       "      <td>8631</td>\n",
       "      <td>5013</td>\n",
       "      <td>897</td>\n",
       "      <td>1691</td>\n",
       "      <td>0x34d85c9cdeb23fa97cb08333b511ac86e1c4e258</td>\n",
       "      <td>OTHR</td>\n",
       "    </tr>\n",
       "    <tr>\n",
       "      <th>18</th>\n",
       "      <td>5754</td>\n",
       "      <td>3947</td>\n",
       "      <td>789</td>\n",
       "      <td>1673</td>\n",
       "      <td>0x122c8d08b982419531b19cce198b63a8d9068eb4</td>\n",
       "      <td>MAJEST</td>\n",
       "    </tr>\n",
       "    <tr>\n",
       "      <th>19</th>\n",
       "      <td>10045</td>\n",
       "      <td>7410</td>\n",
       "      <td>2207</td>\n",
       "      <td>1667</td>\n",
       "      <td>0x790b2cf29ed4f310bf7641f013c65d4560d28371</td>\n",
       "      <td>EXP</td>\n",
       "    </tr>\n",
       "    <tr>\n",
       "      <th>21</th>\n",
       "      <td>4718</td>\n",
       "      <td>4500</td>\n",
       "      <td>726</td>\n",
       "      <td>1632</td>\n",
       "      <td>0x4b45bc6eb614e4f681cc470171b065f6970d7b88</td>\n",
       "      <td>GARBAGEC</td>\n",
       "    </tr>\n",
       "    <tr>\n",
       "      <th>22</th>\n",
       "      <td>18533</td>\n",
       "      <td>10000</td>\n",
       "      <td>3186</td>\n",
       "      <td>1547</td>\n",
       "      <td>0x061c42c9c589430714b5d1facee82e4384d42741</td>\n",
       "      <td>ALAN</td>\n",
       "    </tr>\n",
       "    <tr>\n",
       "      <th>23</th>\n",
       "      <td>7043</td>\n",
       "      <td>3524</td>\n",
       "      <td>1083</td>\n",
       "      <td>1385</td>\n",
       "      <td>0x9b1750e5e27b491f2e3b3fa969e11a41f4ebb550</td>\n",
       "      <td>DORK</td>\n",
       "    </tr>\n",
       "    <tr>\n",
       "      <th>24</th>\n",
       "      <td>11479</td>\n",
       "      <td>2067</td>\n",
       "      <td>1365</td>\n",
       "      <td>1370</td>\n",
       "      <td>0x60e4d786628fea6478f785a6d7e704777c86a7c6</td>\n",
       "      <td>MAYC</td>\n",
       "    </tr>\n",
       "    <tr>\n",
       "      <th>25</th>\n",
       "      <td>17321</td>\n",
       "      <td>9999</td>\n",
       "      <td>2678</td>\n",
       "      <td>1354</td>\n",
       "      <td>0x61c802007b1298c13311bc04511fe578d2c84b39</td>\n",
       "      <td>IRL</td>\n",
       "    </tr>\n",
       "    <tr>\n",
       "      <th>27</th>\n",
       "      <td>13226</td>\n",
       "      <td>8188</td>\n",
       "      <td>1262</td>\n",
       "      <td>1284</td>\n",
       "      <td>0x2358693f4faec9d658bb97fc9cd8885f62105dc1</td>\n",
       "      <td>GTAG</td>\n",
       "    </tr>\n",
       "    <tr>\n",
       "      <th>28</th>\n",
       "      <td>6116</td>\n",
       "      <td>3358</td>\n",
       "      <td>969</td>\n",
       "      <td>1222</td>\n",
       "      <td>0x7f29b85834d6a2ba4bb1c64325686c6057b1b3c5</td>\n",
       "      <td>BAPAPES</td>\n",
       "    </tr>\n",
       "    <tr>\n",
       "      <th>29</th>\n",
       "      <td>3489</td>\n",
       "      <td>1425</td>\n",
       "      <td>1160</td>\n",
       "      <td>1216</td>\n",
       "      <td>0x524cab2ec69124574082676e6f654a18df49a048</td>\n",
       "      <td>LP</td>\n",
       "    </tr>\n",
       "  </tbody>\n",
       "</table>\n",
       "</div>"
      ],
      "text/plain": [
       "    count    ids  receivers  senders  \\\n",
       "1   23110  14958      10079     5583   \n",
       "2   13796   5555       6887     4490   \n",
       "3   21758  10000       5874     3790   \n",
       "4   14270   4980       1937     3560   \n",
       "5   22345  14735       2604     3458   \n",
       "6   37426  19999       5827     2877   \n",
       "7    9929   2221       3517     2708   \n",
       "8    9647   3778       2667     2572   \n",
       "9    5515   2958       2855     2540   \n",
       "10  23226   9666       3748     2514   \n",
       "11   9400   6339       1338     2334   \n",
       "12  15217  10086       5931     2175   \n",
       "13   5675   3205       2423     2171   \n",
       "14  16031   5531       2872     2097   \n",
       "15   6717   4906        519     1885   \n",
       "16  36877    671       2101     1797   \n",
       "17   8631   5013        897     1691   \n",
       "18   5754   3947        789     1673   \n",
       "19  10045   7410       2207     1667   \n",
       "21   4718   4500        726     1632   \n",
       "22  18533  10000       3186     1547   \n",
       "23   7043   3524       1083     1385   \n",
       "24  11479   2067       1365     1370   \n",
       "25  17321   9999       2678     1354   \n",
       "27  13226   8188       1262     1284   \n",
       "28   6116   3358        969     1222   \n",
       "29   3489   1425       1160     1216   \n",
       "\n",
       "               Transfer.Currency.SmartContract Transfer.Currency.Symbol  \n",
       "1   0x495f947276749ce646f68ac8c248420045cb7b5e                OPENSTORE  \n",
       "2   0x0581ddf7a136c6837429a46c6cb7b388a3e52971                  BG Dice  \n",
       "3   0xb8a52cbf0a322b5162173984b58510e5bf264d81                    MAXIM  \n",
       "4   0xd564c25b760cb278a55bdd98831f4ff4b6c97b38                     ORAS  \n",
       "5   0x5b1085136a811e55b2bb2ca1ea456ba82126a376                      VSL  \n",
       "6   0x0c56f29b8d90eea71d57cadeb3216b4ef7494abc                   CLOAKS  \n",
       "7   0x8ff2e72f8faf05384aeb501ba9644c9759d2fd5f                      MTG  \n",
       "8   0xd774557b647330c91bf44cfeab205095f7e6c367                    NKMGS  \n",
       "9   0x2ff6a890249bcc6ab071c17a66db4c327154604c           MarathonRunner  \n",
       "10  0xd29f5f02f5ffcd102faf467f2f236c601830780d                    DDMGS  \n",
       "11  0x37ed9fb736bf48b8bceba599938372cbd70fb378                  PEPUNKS  \n",
       "12  0x142e03367ede17cd851477a4287d1f35676e6dc2                 Yogapetz  \n",
       "13  0x889edc2edab5f40e902b864ad4d7ade8e412f9b1                  unstETH  \n",
       "14  0xa5b276d7c697a7fbb3437253f3fd7eeed852950f                   sphpp_  \n",
       "15  0xa90b7861b734784e5eaf87bcd079b1edfed24555                seedworld  \n",
       "16  0x76be3b62873462d2142405439777e971754e8e77                       LL  \n",
       "17  0x34d85c9cdeb23fa97cb08333b511ac86e1c4e258                     OTHR  \n",
       "18  0x122c8d08b982419531b19cce198b63a8d9068eb4                   MAJEST  \n",
       "19  0x790b2cf29ed4f310bf7641f013c65d4560d28371                      EXP  \n",
       "21  0x4b45bc6eb614e4f681cc470171b065f6970d7b88                 GARBAGEC  \n",
       "22  0x061c42c9c589430714b5d1facee82e4384d42741                     ALAN  \n",
       "23  0x9b1750e5e27b491f2e3b3fa969e11a41f4ebb550                     DORK  \n",
       "24  0x60e4d786628fea6478f785a6d7e704777c86a7c6                     MAYC  \n",
       "25  0x61c802007b1298c13311bc04511fe578d2c84b39                      IRL  \n",
       "27  0x2358693f4faec9d658bb97fc9cd8885f62105dc1                     GTAG  \n",
       "28  0x7f29b85834d6a2ba4bb1c64325686c6057b1b3c5                  BAPAPES  \n",
       "29  0x524cab2ec69124574082676e6f654a18df49a048                       LP  "
      ]
     },
     "execution_count": 105,
     "metadata": {},
     "output_type": "execute_result"
    }
   ],
   "source": [
    "# df_top_nfts.head(5)\n",
    "df_top_nfts = df_top_nfts.drop([df_top_nfts.index[0], df_top_nfts.index[20], df_top_nfts.index[26]])\n",
    "# df_top_nfts['Transfer.Currency.Symbol'].isnull()\n",
    "df_top_nfts"
   ]
  },
  {
   "cell_type": "code",
   "execution_count": 106,
   "metadata": {},
   "outputs": [
    {
     "data": {
      "image/png": "[encoded data removed]",
      "text/plain": [
       "<Figure size 1080x360 with 1 Axes>"
      ]
     },
     "metadata": {
      "needs_background": "light"
     },
     "output_type": "display_data"
    }
   ],
   "source": [
    "\n",
    "plt.figure(figsize=(15,5))\n",
    "plt.bar(df_top_nfts['Transfer.Currency.Symbol'], df_top_nfts['count'], color='green')\n",
    "plt.xticks(rotation=45)\n",
    "plt.show() "
   ]
  }
 ],
 "metadata": {
  "kernelspec": {
   "display_name": "Python 3",
   "language": "python",
   "name": "python3"
  },
  "language_info": {
   "codemirror_mode": {
    "name": "ipython",
    "version": 3
   },
   "file_extension": ".py",
   "mimetype": "text/x-python",
   "name": "python",
   "nbconvert_exporter": "python",
   "pygments_lexer": "ipython3",
   "version": "3.10.4"
  }
 },
 "nbformat": 4,
 "nbformat_minor": 2
}
