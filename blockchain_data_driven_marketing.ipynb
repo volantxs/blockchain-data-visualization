{
 "cells": [
  {
   "cell_type": "code",
   "execution_count": 1,
   "metadata": {},
   "outputs": [],
   "source": [
    "import http.client\n",
    "import json\n",
    "import pandas as pd \n",
    "import numpy as np\n",
    "import matplotlib.pyplot as plt"
   ]
  },
  {
   "cell_type": "markdown",
   "metadata": {},
   "source": [
    "NFT Transfers During Regulators packed period (September 2023)"
   ]
  },
  {
   "cell_type": "code",
   "execution_count": 30,
   "metadata": {},
   "outputs": [
    {
     "name": "stdout",
     "output_type": "stream",
     "text": [
      "{'data': {'EVM': {'Transfers': [{'Block': {'Date': '2023-09-01'}, 'count': '145637'}, {'Block': {'Date': '2023-09-02'}, 'count': '104272'}, {'Block': {'Date': '2023-09-03'}, 'count': '93897'}, {'Block': {'Date': '2023-09-04'}, 'count': '125071'}, {'Block': {'Date': '2023-09-05'}, 'count': '160966'}, {'Block': {'Date': '2023-09-06'}, 'count': '161740'}, {'Block': {'Date': '2023-09-07'}, 'count': '141062'}, {'Block': {'Date': '2023-09-08'}, 'count': '184425'}, {'Block': {'Date': '2023-09-09'}, 'count': '123643'}, {'Block': {'Date': '2023-09-10'}, 'count': '161540'}, {'Block': {'Date': '2023-09-11'}, 'count': '131652'}, {'Block': {'Date': '2023-09-12'}, 'count': '105835'}, {'Block': {'Date': '2023-09-13'}, 'count': '153006'}, {'Block': {'Date': '2023-09-14'}, 'count': '196569'}, {'Block': {'Date': '2023-09-15'}, 'count': '120837'}, {'Block': {'Date': '2023-09-16'}, 'count': '132694'}, {'Block': {'Date': '2023-09-17'}, 'count': '139284'}, {'Block': {'Date': '2023-09-18'}, 'count': '102830'}, {'Block': {'Date': '2023-09-19'}, 'count': '142270'}, {'Block': {'Date': '2023-09-20'}, 'count': '181355'}, {'Block': {'Date': '2023-09-21'}, 'count': '127354'}, {'Block': {'Date': '2023-09-22'}, 'count': '137512'}, {'Block': {'Date': '2023-09-23'}, 'count': '142122'}, {'Block': {'Date': '2023-09-24'}, 'count': '102468'}, {'Block': {'Date': '2023-09-25'}, 'count': '133530'}, {'Block': {'Date': '2023-09-26'}, 'count': '131823'}, {'Block': {'Date': '2023-09-27'}, 'count': '153032'}, {'Block': {'Date': '2023-09-28'}, 'count': '146064'}, {'Block': {'Date': '2023-09-29'}, 'count': '127091'}, {'Block': {'Date': '2023-09-30'}, 'count': '143462'}, {'Block': {'Date': '2023-10-01'}, 'count': '130736'}]}}}\n"
     ]
    }
   ],
   "source": [
    "\n",
    "conn = http.client.HTTPSConnection(\"streaming.bitquery.io\")\n",
    "payload = json.dumps({\n",
    "   \"query\": \"{\\n  EVM(dataset: combined, network: eth) {\\n    Transfers(\\n      orderBy: {ascending: Block_Date}\\n      where: {Block: {Date: {since: \\\"2023-9-01\\\", till: \\\"2023-10-01\\\"}}, Transfer: {Currency: {Fungible: false}}}\\n    ) {\\n      Block {\\n        Date\\n      }\\n      count\\n    }\\n  }\\n}\\n\",\n",
    "   \"variables\": \"{}\"\n",
    "})\n",
    "headers = {\n",
    "   'Content-Type': 'application/json',\n",
    "   'X-API-KEY': 'BQYdO11cbRp3kwtJsrLSTOHnuapbJL48'\n",
    "}\n",
    "conn.request(\"POST\", \"/graphql\", payload, headers)\n",
    "res = conn.getresponse()\n",
    "data = res.read()\n",
    "response= json.loads(data.decode(\"utf-8\"))\n",
    "print(response)\n"
   ]
  },
  {
   "cell_type": "code",
   "execution_count": 33,
   "metadata": {},
   "outputs": [
    {
     "data": {
      "text/html": [
       "<div>\n",
       "<style scoped>\n",
       "    .dataframe tbody tr th:only-of-type {\n",
       "        vertical-align: middle;\n",
       "    }\n",
       "\n",
       "    .dataframe tbody tr th {\n",
       "        vertical-align: top;\n",
       "    }\n",
       "\n",
       "    .dataframe thead th {\n",
       "        text-align: right;\n",
       "    }\n",
       "</style>\n",
       "<table border=\"1\" class=\"dataframe\">\n",
       "  <thead>\n",
       "    <tr style=\"text-align: right;\">\n",
       "      <th></th>\n",
       "      <th>count</th>\n",
       "      <th>Block.Date</th>\n",
       "    </tr>\n",
       "  </thead>\n",
       "  <tbody>\n",
       "    <tr>\n",
       "      <th>0</th>\n",
       "      <td>145637</td>\n",
       "      <td>2023-09-01</td>\n",
       "    </tr>\n",
       "    <tr>\n",
       "      <th>1</th>\n",
       "      <td>104272</td>\n",
       "      <td>2023-09-02</td>\n",
       "    </tr>\n",
       "    <tr>\n",
       "      <th>2</th>\n",
       "      <td>93897</td>\n",
       "      <td>2023-09-03</td>\n",
       "    </tr>\n",
       "    <tr>\n",
       "      <th>3</th>\n",
       "      <td>125071</td>\n",
       "      <td>2023-09-04</td>\n",
       "    </tr>\n",
       "    <tr>\n",
       "      <th>4</th>\n",
       "      <td>160966</td>\n",
       "      <td>2023-09-05</td>\n",
       "    </tr>\n",
       "  </tbody>\n",
       "</table>\n",
       "</div>"
      ],
      "text/plain": [
       "    count  Block.Date\n",
       "0  145637  2023-09-01\n",
       "1  104272  2023-09-02\n",
       "2   93897  2023-09-03\n",
       "3  125071  2023-09-04\n",
       "4  160966  2023-09-05"
      ]
     },
     "execution_count": 33,
     "metadata": {},
     "output_type": "execute_result"
    }
   ],
   "source": [
    "data_table= response['data']['EVM']['Transfers']\n",
    "dataframe = pd.json_normalize(data_table)\n",
    "dataframe.head(5)"
   ]
  },
  {
   "cell_type": "code",
   "execution_count": 46,
   "metadata": {},
   "outputs": [
    {
     "name": "stdout",
     "output_type": "stream",
     "text": [
      "<class 'pandas.core.frame.DataFrame'>\n",
      "RangeIndex: 31 entries, 0 to 30\n",
      "Data columns (total 2 columns):\n",
      " #   Column      Non-Null Count  Dtype \n",
      "---  ------      --------------  ----- \n",
      " 0   count       31 non-null     object\n",
      " 1   Block.Date  31 non-null     object\n",
      "dtypes: object(2)\n",
      "memory usage: 624.0+ bytes\n"
     ]
    }
   ],
   "source": [
    "dataframe.info()"
   ]
  },
  {
   "cell_type": "code",
   "execution_count": 63,
   "metadata": {},
   "outputs": [
    {
     "name": "stdout",
     "output_type": "stream",
     "text": [
      "<class 'pandas.core.frame.DataFrame'>\n",
      "RangeIndex: 31 entries, 0 to 30\n",
      "Data columns (total 2 columns):\n",
      " #   Column      Non-Null Count  Dtype\n",
      "---  ------      --------------  -----\n",
      " 0   count       31 non-null     int64\n",
      " 1   Block.Date  31 non-null     int64\n",
      "dtypes: int64(2)\n",
      "memory usage: 624.0 bytes\n"
     ]
    }
   ],
   "source": [
    "dataframe['count'] =  pd.to_numeric(dataframe['count'])\n",
    "dataframe['Block.Date'] = pd.to_datetime(dataframe['Block.Date'])\n",
    "dataframe['Block.Date'] = dataframe['Block.Date'].dt.day\n",
    "dataframe.info()"
   ]
  },
  {
   "cell_type": "code",
   "execution_count": 65,
   "metadata": {},
   "outputs": [
    {
     "data": {
      "image/png": "[encoded data removed]",
      "text/plain": [
       "<Figure size 720x360 with 1 Axes>"
      ]
     },
     "metadata": {
      "needs_background": "light"
     },
     "output_type": "display_data"
    }
   ],
   "source": [
    "plt.figure(figsize= (10,5))\n",
    "plt.bar(dataframe['Block.Date'].iloc[::2], dataframe['count'].iloc[::2], color='blue', width=1)\n",
    "plt.show()"
   ]
  },
  {
   "cell_type": "code",
   "execution_count": 70,
   "metadata": {},
   "outputs": [
    {
     "name": "stdout",
     "output_type": "stream",
     "text": [
      "{'data': {'EVM': {'Transfers': [{'Transfer': {'Currency': {'SmartContract': '0x57f1887a8bf19b14fc0df6fd9b2acc9af147ea85', 'Symbol': ''}}, 'count': '61151', 'ids': '45978', 'receivers': '6247', 'senders': '9344'}, {'Transfer': {'Currency': {'SmartContract': '0x495f947276749ce646f68ac8c248420045cb7b5e', 'Symbol': 'OPENSTORE'}}, 'count': '23110', 'ids': '14958', 'receivers': '10079', 'senders': '5583'}, {'Transfer': {'Currency': {'SmartContract': '0x0581ddf7a136c6837429a46c6cb7b388a3e52971', 'Symbol': 'BG Dice'}}, 'count': '13796', 'ids': '5555', 'receivers': '6887', 'senders': '4490'}, {'Transfer': {'Currency': {'SmartContract': '0xb8a52cbf0a322b5162173984b58510e5bf264d81', 'Symbol': 'MAXIM'}}, 'count': '21758', 'ids': '10000', 'receivers': '5874', 'senders': '3790'}, {'Transfer': {'Currency': {'SmartContract': '0xd564c25b760cb278a55bdd98831f4ff4b6c97b38', 'Symbol': 'ORAS'}}, 'count': '14270', 'ids': '4980', 'receivers': '1937', 'senders': '3560'}, {'Transfer': {'Currency': {'SmartContract': '0x5b1085136a811e55b2bb2ca1ea456ba82126a376', 'Symbol': 'VSL'}}, 'count': '22345', 'ids': '14735', 'receivers': '2604', 'senders': '3458'}, {'Transfer': {'Currency': {'SmartContract': '0x0c56f29b8d90eea71d57cadeb3216b4ef7494abc', 'Symbol': 'CLOAKS'}}, 'count': '37426', 'ids': '19999', 'receivers': '5827', 'senders': '2877'}, {'Transfer': {'Currency': {'SmartContract': '0x8ff2e72f8faf05384aeb501ba9644c9759d2fd5f', 'Symbol': 'MTG'}}, 'count': '9929', 'ids': '2221', 'receivers': '3517', 'senders': '2708'}, {'Transfer': {'Currency': {'SmartContract': '0xd774557b647330c91bf44cfeab205095f7e6c367', 'Symbol': 'NKMGS'}}, 'count': '9647', 'ids': '3778', 'receivers': '2667', 'senders': '2572'}, {'Transfer': {'Currency': {'SmartContract': '0x2ff6a890249bcc6ab071c17a66db4c327154604c', 'Symbol': 'MarathonRunner'}}, 'count': '5515', 'ids': '2958', 'receivers': '2855', 'senders': '2540'}, {'Transfer': {'Currency': {'SmartContract': '0xd29f5f02f5ffcd102faf467f2f236c601830780d', 'Symbol': 'DDMGS'}}, 'count': '23226', 'ids': '9666', 'receivers': '3748', 'senders': '2514'}, {'Transfer': {'Currency': {'SmartContract': '0x37ed9fb736bf48b8bceba599938372cbd70fb378', 'Symbol': 'PEPUNKS'}}, 'count': '9400', 'ids': '6339', 'receivers': '1338', 'senders': '2334'}, {'Transfer': {'Currency': {'SmartContract': '0x142e03367ede17cd851477a4287d1f35676e6dc2', 'Symbol': 'Yogapetz'}}, 'count': '15217', 'ids': '10086', 'receivers': '5931', 'senders': '2175'}, {'Transfer': {'Currency': {'SmartContract': '0x889edc2edab5f40e902b864ad4d7ade8e412f9b1', 'Symbol': 'unstETH'}}, 'count': '5675', 'ids': '3205', 'receivers': '2423', 'senders': '2171'}, {'Transfer': {'Currency': {'SmartContract': '0xa5b276d7c697a7fbb3437253f3fd7eeed852950f', 'Symbol': 'sphpp_'}}, 'count': '16031', 'ids': '5531', 'receivers': '2872', 'senders': '2097'}, {'Transfer': {'Currency': {'SmartContract': '0xa90b7861b734784e5eaf87bcd079b1edfed24555', 'Symbol': 'seedworld'}}, 'count': '6717', 'ids': '4906', 'receivers': '519', 'senders': '1885'}, {'Transfer': {'Currency': {'SmartContract': '0x76be3b62873462d2142405439777e971754e8e77', 'Symbol': 'LL'}}, 'count': '36877', 'ids': '671', 'receivers': '2101', 'senders': '1797'}, {'Transfer': {'Currency': {'SmartContract': '0x34d85c9cdeb23fa97cb08333b511ac86e1c4e258', 'Symbol': 'OTHR'}}, 'count': '8631', 'ids': '5013', 'receivers': '897', 'senders': '1691'}, {'Transfer': {'Currency': {'SmartContract': '0x122c8d08b982419531b19cce198b63a8d9068eb4', 'Symbol': 'MAJEST'}}, 'count': '5754', 'ids': '3947', 'receivers': '789', 'senders': '1673'}, {'Transfer': {'Currency': {'SmartContract': '0x790b2cf29ed4f310bf7641f013c65d4560d28371', 'Symbol': 'EXP'}}, 'count': '10045', 'ids': '7410', 'receivers': '2207', 'senders': '1667'}, {'Transfer': {'Currency': {'SmartContract': '0xd4416b13d2b3a9abae7acd5d6c2bbdbe25686401', 'Symbol': ''}}, 'count': '34841', 'ids': '32876', 'receivers': '26646', 'senders': '1652'}, {'Transfer': {'Currency': {'SmartContract': '0x4b45bc6eb614e4f681cc470171b065f6970d7b88', 'Symbol': 'GARBAGEC'}}, 'count': '4718', 'ids': '4500', 'receivers': '726', 'senders': '1632'}, {'Transfer': {'Currency': {'SmartContract': '0x061c42c9c589430714b5d1facee82e4384d42741', 'Symbol': 'ALAN'}}, 'count': '18533', 'ids': '10000', 'receivers': '3186', 'senders': '1547'}, {'Transfer': {'Currency': {'SmartContract': '0x9b1750e5e27b491f2e3b3fa969e11a41f4ebb550', 'Symbol': 'DORK'}}, 'count': '7043', 'ids': '3524', 'receivers': '1083', 'senders': '1385'}, {'Transfer': {'Currency': {'SmartContract': '0x60e4d786628fea6478f785a6d7e704777c86a7c6', 'Symbol': 'MAYC'}}, 'count': '11479', 'ids': '2067', 'receivers': '1365', 'senders': '1370'}, {'Transfer': {'Currency': {'SmartContract': '0x61c802007b1298c13311bc04511fe578d2c84b39', 'Symbol': 'IRL'}}, 'count': '17321', 'ids': '9999', 'receivers': '2678', 'senders': '1354'}, {'Transfer': {'Currency': {'SmartContract': '0x7ad7f98f229c5c1ea5161bed952c3007dbe1f307', 'Symbol': ''}}, 'count': '2741', 'ids': '1692', 'receivers': '951', 'senders': '1306'}, {'Transfer': {'Currency': {'SmartContract': '0x2358693f4faec9d658bb97fc9cd8885f62105dc1', 'Symbol': 'GTAG'}}, 'count': '13226', 'ids': '8188', 'receivers': '1262', 'senders': '1284'}, {'Transfer': {'Currency': {'SmartContract': '0x7f29b85834d6a2ba4bb1c64325686c6057b1b3c5', 'Symbol': 'BAPAPES'}}, 'count': '6116', 'ids': '3358', 'receivers': '969', 'senders': '1222'}, {'Transfer': {'Currency': {'SmartContract': '0x524cab2ec69124574082676e6f654a18df49a048', 'Symbol': 'LP'}}, 'count': '3489', 'ids': '1425', 'receivers': '1160', 'senders': '1216'}]}}}\n"
     ]
    }
   ],
   "source": [
    "conn = http.client.HTTPSConnection(\"streaming.bitquery.io\")\n",
    "payload2 = json.dumps({\n",
    "   \"query\": \"{\\n  EVM(dataset: combined, network: eth) {\\n    Transfers(\\n      where: {Block: {Date: {since: \\\"2023-09-01\\\", till: \\\"2023-10-01\\\"}}, Transfer: {Currency: {Fungible: false}}}\\n      limit: {count: 30}\\n      orderBy: {descendingByField: \\\"senders\\\"}\\n    ) {\\n      Transfer {\\n        Currency {\\n          Symbol\\n          SmartContract\\n        }\\n      }\\n      count\\n      senders: uniq(of: Transfer_Sender, method: approximate)\\n      receivers: uniq(of: Transfer_Receiver, method: approximate)\\n      ids: uniq(of: Transfer_Id, method: approximate)\\n    }\\n  }\\n}\\n\",\n",
    "   \"variables\": \"{}\"\n",
    "})\n",
    "conn.request(\"POST\", \"/graphql\", payload2, headers)\n",
    "res2 = conn.getresponse()\n",
    "data2 = res2.read()\n",
    "response2= json.loads(data2.decode(\"utf-8\"))\n",
    "print(response2)"
   ]
  },
  {
   "cell_type": "code",
   "execution_count": 76,
   "metadata": {},
   "outputs": [
    {
     "name": "stdout",
     "output_type": "stream",
     "text": [
      "<class 'pandas.core.frame.DataFrame'>\n",
      "RangeIndex: 30 entries, 0 to 29\n",
      "Data columns (total 6 columns):\n",
      " #   Column                           Non-Null Count  Dtype \n",
      "---  ------                           --------------  ----- \n",
      " 0   count                            30 non-null     object\n",
      " 1   ids                              30 non-null     object\n",
      " 2   receivers                        30 non-null     object\n",
      " 3   senders                          30 non-null     object\n",
      " 4   Transfer.Currency.SmartContract  30 non-null     object\n",
      " 5   Transfer.Currency.Symbol         30 non-null     object\n",
      "dtypes: object(6)\n",
      "memory usage: 1.5+ KB\n"
     ]
    }
   ],
   "source": [
    "dt_top_nfts= response2['data']['EVM']['Transfers']\n",
    "df_top_nfts = pd.json_normalize(dt_top_nfts)\n",
    "df_top_nfts.info()"
   ]
  },
  {
   "cell_type": "code",
   "execution_count": null,
   "metadata": {},
   "outputs": [],
   "source": [
    "df_top_nfts['count', 'rceivers', 'senders', ]"
   ]
  }
 ],
 "metadata": {
  "kernelspec": {
   "display_name": "Python 3",
   "language": "python",
   "name": "python3"
  },
  "language_info": {
   "codemirror_mode": {
    "name": "ipython",
    "version": 3
   },
   "file_extension": ".py",
   "mimetype": "text/x-python",
   "name": "python",
   "nbconvert_exporter": "python",
   "pygments_lexer": "ipython3",
   "version": "3.10.4"
  }
 },
 "nbformat": 4,
 "nbformat_minor": 2
}
