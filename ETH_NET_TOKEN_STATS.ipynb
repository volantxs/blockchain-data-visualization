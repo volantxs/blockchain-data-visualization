{
 "cells": [
  {
   "cell_type": "code",
   "execution_count": 2,
   "metadata": {},
   "outputs": [],
   "source": [
    "import http.client\n",
    "import json\n",
    "import pandas as pd \n",
    "import numpy as np\n",
    "import matplotlib.pyplot as plt"
   ]
  },
  {
   "cell_type": "code",
   "execution_count": 4,
   "metadata": {},
   "outputs": [
    {
     "name": "stdout",
     "output_type": "stream",
     "text": [
      "    count  senders  receivers        amount    amount_usd currency.symbol  \\\n",
      "0    8633        1       2863  8.633000e+03  0.000000e+00           FREQS   \n",
      "1    8244     2463       8236  4.205816e+08  0.000000e+00          ꓴSᎠ ꓔ܂   \n",
      "2    7774      697       1124  2.692933e+08  8.408334e+06           TOKEN   \n",
      "3    7543      131       1486  7.543000e+03  0.000000e+00           CRYNM   \n",
      "4    6726     3548       5396  3.951570e+10  0.000000e+00            USDТ   \n",
      "..    ...      ...        ...           ...           ...             ...   \n",
      "95   1384      605        852  1.534574e+05  1.556721e+07             QNT   \n",
      "96   1383      170        327  4.666458e+06  0.000000e+00           WAIFU   \n",
      "97   1377      558        226  1.377000e+03  0.000000e+00         SCROLLS   \n",
      "98   1364      359        298  2.074157e+11  6.530672e+06           FLOKI   \n",
      "99   1359      379        375  5.843894e+08  0.000000e+00             LMI   \n",
      "\n",
      "                              currency.address  \n",
      "0   0xaa1be9c87a8d46e69b733c0b8bdf0a787e4d0026  \n",
      "1   0x5e57bdcfcb48b45a5c5e5d42c7d006fc7ccb53fe  \n",
      "2   0x4507cef57c46789ef8d1a19ea45f4216bae2b528  \n",
      "3   0x96246927030094c22782ec9921f082d024536982  \n",
      "4   0xc6a1d202ea0431187f6e4fffe15897abf002fb54  \n",
      "..                                         ...  \n",
      "95  0x4a220e6096b25eadb88358cb44068a3248254675  \n",
      "96  0xeb1c0c33435b5430e1816d00f3a355f454e0a377  \n",
      "97  0xce8169a6fb6770c0c6d411a734dd6d74bb241097  \n",
      "98  0xcf0c122c6b73ff809c693db761e7baebe62b6a2e  \n",
      "99  0xaf05ce8a2cef336006e933c02fc89887f5b3c726  \n",
      "\n",
      "[100 rows x 7 columns]\n"
     ]
    }
   ],
   "source": [
    "conn = http.client.HTTPSConnection(\"graphql.bitquery.io\")\n",
    "payload = json.dumps({\n",
    "   \"query\": \"query ($network: EthereumNetwork!, $limit: Int!, $offset: Int!, $from: ISO8601DateTime, $till: ISO8601DateTime) {\\n  ethereum(network: $network) {\\n    transfers(\\n      options: {desc: \\\"count\\\", limit: $limit, offset: $offset}\\n      amount: {gt: 0}\\n      time: {since: $from, till: $till}\\n    ) {\\n      currency {\\n        symbol\\n        address\\n      }\\n      count\\n      senders: count(uniq: senders)\\n      receivers: count(uniq: receivers)\\n      amount\\n      amount_usd: amount(in: USD)\\n    }\\n  }\\n}\\n\",\n",
    "   \"variables\": \"{\\n  \\\"limit\\\": 100,\\n  \\\"offset\\\": 10,\\n  \\\"network\\\": \\\"ethereum\\\",\\n  \\\"from\\\": \\\"2023-10-31T20:01:02.000Z\\\",\\n  \\\"till\\\": \\\"2023-11-01T20:01:02.999Z\\\",\\n  \\\"dateFormat\\\": \\\"%Y-%m-%d\\\"\\n}\"\n",
    "})\n",
    "headers = {\n",
    "   'Content-Type': 'application/json',\n",
    "   'X-API-KEY': 'BQYD44mQfBTF33j7OuCcsMIJlwHI7tzF'\n",
    "}\n",
    "conn.request(\"POST\", \"/\", payload, headers)\n",
    "res = conn.getresponse()\n",
    "data = res.read()\n",
    "response= json.loads(data.decode(\"utf-8\"))\n",
    "\n",
    "\n",
    "data_table= response['data']['ethereum']['transfers']\n",
    "dataframe = pd.json_normalize(data_table)\n",
    "print(dataframe)"
   ]
  },
  {
   "cell_type": "code",
   "execution_count": 85,
   "metadata": {},
   "outputs": [
    {
     "name": "stdout",
     "output_type": "stream",
     "text": [
      "Empty DataFrame\n",
      "Columns: [count, senders, receivers, amount, amount_usd, currency.symbol, currency.address]\n",
      "Index: []\n",
      "None\n"
     ]
    },
    {
     "name": "stderr",
     "output_type": "stream",
     "text": [
      "C:\\Users\\ssbsa\\AppData\\Local\\Temp\\ipykernel_24252\\3331549684.py:3: SettingWithCopyWarning: \n",
      "A value is trying to be set on a copy of a slice from a DataFrame\n",
      "\n",
      "See the caveats in the documentation: https://pandas.pydata.org/pandas-docs/stable/user_guide/indexing.html#returning-a-view-versus-a-copy\n",
      "  df.drop(df.index[(df['currency.symbol'] == \"????\")],axis=0,inplace=True)\n"
     ]
    }
   ],
   "source": [
    "df = dataframe.head(10)\n",
    "df.drop(df.index[(df['currency.symbol'] == \"????\")],axis=0,inplace=True)\n",
    "symbol = df['currency.symbol']\n",
    "count = df[\"count\"]\n",
    "amount = df[\"amount\"]\n",
    "amount_usd = df[\"amount_usd\"]\n",
    "senders = df[\"senders\"]\n",
    "receivers = df[\"receivers\"]"
   ]
  },
  {
   "cell_type": "code",
   "execution_count": 94,
   "metadata": {},
   "outputs": [
    {
     "name": "stderr",
     "output_type": "stream",
     "text": [
      "c:\\Users\\ssbsa\\AppData\\Local\\Programs\\Python\\Python310\\lib\\site-packages\\IPython\\core\\pylabtools.py:151: UserWarning: Glyph 5024 (\\N{CHEROKEE LETTER A}) missing from current font.\n",
      "  fig.canvas.print_figure(bytes_io, **kw)\n",
      "c:\\Users\\ssbsa\\AppData\\Local\\Programs\\Python\\Python310\\lib\\site-packages\\IPython\\core\\pylabtools.py:151: UserWarning: Glyph 1794 (\\N{SYRIAC SUBLINEAR FULL STOP}) missing from current font.\n",
      "  fig.canvas.print_figure(bytes_io, **kw)\n"
     ]
    },
    {
     "data": {
      "image/png": "[encoded data removed]",
      "text/plain": [
       "<Figure size 720x360 with 1 Axes>"
      ]
     },
     "metadata": {
      "needs_background": "light"
     },
     "output_type": "display_data"
    }
   ],
   "source": [
    "fig = plt.figure(figsize=(10,5))\n",
    "\n",
    "plt.bar(symbol, senders, color='green', width=0.4)\n",
    "\n",
    "plt.xlabel('TOKEN')\n",
    "plt.ylabel('VOLUME')\n",
    "plt.title(\"VOLUME OF UNIQUE SENDERS PER TOKEN\")\n",
    "plt.show()"
   ]
  },
  {
   "cell_type": "code",
   "execution_count": 96,
   "metadata": {},
   "outputs": [
    {
     "name": "stderr",
     "output_type": "stream",
     "text": [
      "c:\\Users\\ssbsa\\AppData\\Local\\Programs\\Python\\Python310\\lib\\site-packages\\IPython\\core\\pylabtools.py:151: UserWarning: Glyph 5024 (\\N{CHEROKEE LETTER A}) missing from current font.\n",
      "  fig.canvas.print_figure(bytes_io, **kw)\n",
      "c:\\Users\\ssbsa\\AppData\\Local\\Programs\\Python\\Python310\\lib\\site-packages\\IPython\\core\\pylabtools.py:151: UserWarning: Glyph 1794 (\\N{SYRIAC SUBLINEAR FULL STOP}) missing from current font.\n",
      "  fig.canvas.print_figure(bytes_io, **kw)\n"
     ]
    },
    {
     "data": {
      "image/png": "[encoded data removed]",
      "text/plain": [
       "<Figure size 720x360 with 1 Axes>"
      ]
     },
     "metadata": {
      "needs_background": "light"
     },
     "output_type": "display_data"
    }
   ],
   "source": [
    "fig = plt.figure(figsize=(10,5))\n",
    "\n",
    "plt.bar(symbol, receivers, color='green', width=0.4)\n",
    "\n",
    "plt.xlabel('TOKEN')\n",
    "plt.ylabel('VOLUME')\n",
    "plt.title(\"VOLUME OF UNIQUE RECIPIENTS PER TOKEN\")\n",
    "plt.show()"
   ]
  }
 ],
 "metadata": {
  "kernelspec": {
   "display_name": "Python 3",
   "language": "python",
   "name": "python3"
  },
  "language_info": {
   "codemirror_mode": {
    "name": "ipython",
    "version": 3
   },
   "file_extension": ".py",
   "mimetype": "text/x-python",
   "name": "python",
   "nbconvert_exporter": "python",
   "pygments_lexer": "ipython3",
   "version": "3.10.4"
  }
 },
 "nbformat": 4,
 "nbformat_minor": 2
}
